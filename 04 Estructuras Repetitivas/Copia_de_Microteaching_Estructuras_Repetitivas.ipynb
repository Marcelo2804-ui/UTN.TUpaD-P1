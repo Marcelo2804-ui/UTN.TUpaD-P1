{
  "nbformat": 4,
  "nbformat_minor": 0,
  "metadata": {
    "colab": {
      "provenance": []
    },
    "kernelspec": {
      "name": "python3",
      "display_name": "Python 3"
    },
    "language_info": {
      "name": "python"
    }
  },
  "cells": [
    {
      "cell_type": "markdown",
      "source": [
        "# Ejercicio 1\n",
        "## Bucle For\n",
        "Imprimir los números pares entre 2 y 10"
      ],
      "metadata": {
        "id": "vvas8QLW-JGL"
      }
    },
    {
      "cell_type": "code",
      "execution_count": null,
      "metadata": {
        "id": "OnvQKCkG97M0"
      },
      "outputs": [],
      "source": [
        "for num in range(2, 11, 2):\n",
        "  print(num)"
      ]
    },
    {
      "cell_type": "markdown",
      "source": [
        "# Ejercicio 2\n",
        "## Bucle For\n",
        "Escribir un bucle for que imprima números del 5 al 1 en orden descendentes."
      ],
      "metadata": {
        "id": "cfpPBMeg-drj"
      }
    },
    {
      "cell_type": "code",
      "source": [
        "for i in range(5, 0, -1):\n",
        "  print(i)"
      ],
      "metadata": {
        "id": "dEK9FS3o-ojB"
      },
      "execution_count": null,
      "outputs": []
    },
    {
      "cell_type": "markdown",
      "source": [
        "# Ejercicio 3\n",
        "## Bucle While\n",
        "Pedir al usuario una contraseña hasta que sea correcta."
      ],
      "metadata": {
        "id": "SBO9VKmi-yCd"
      }
    },
    {
      "cell_type": "code",
      "source": [
        "clave = \"\"\n",
        "\n",
        "while clave != \"python123\":\n",
        "  clave = input(\"Ingresa la contraseña: \")\n",
        "\n",
        "print(\"¡Acceso concedido!\")"
      ],
      "metadata": {
        "id": "QrEl4_Fz-3-A"
      },
      "execution_count": null,
      "outputs": []
    },
    {
      "cell_type": "markdown",
      "source": [
        "# Ejercicio 4\n",
        "## Bucle While\n",
        "Escribir un bucle while que sume números ingresados por el usuario, hasta que el total acumulado sea mayor a 100."
      ],
      "metadata": {
        "id": "DaKbC3sc_KoV"
      }
    },
    {
      "cell_type": "code",
      "source": [
        "total = 0\n",
        "\n",
        "while total <= 100:\n",
        "  total += int(input(\"Ingresa un número: \"))\n",
        "\n",
        "print(\"Total:\", total)"
      ],
      "metadata": {
        "id": "QJA-W5nq_T_q"
      },
      "execution_count": null,
      "outputs": []
    },
    {
      "cell_type": "markdown",
      "source": [
        "#Ejercicio 5\n",
        "## Ejercicio integrador\n",
        "Imprimir números del 1 al 10. omitiendo el número 7 y deteniendo al llegar el número 9."
      ],
      "metadata": {
        "id": "8XZUm71c_mwi"
      }
    },
    {
      "cell_type": "code",
      "source": [
        "for i in range(1, 11):\n",
        "  if i == 7:\n",
        "    continue\n",
        "  if i == 9:\n",
        "    break\n",
        "\n",
        "print(i)"
      ],
      "metadata": {
        "id": "9jV3Y4uN_v3O"
      },
      "execution_count": null,
      "outputs": []
    }
  ]
}